{
 "cells": [
  {
   "cell_type": "code",
   "execution_count": 26,
   "metadata": {},
   "outputs": [],
   "source": [
    "from cobra.io import load_json_model\n",
    "from escher import Builder\n",
    "\n",
    "# 1. Load the model\n",
    "model = load_json_model(\"ecoli_iJO1366.json\")\n",
    "model.solver = \"glpk\"\n"
   ]
  },
  {
   "cell_type": "code",
   "execution_count": 17,
   "metadata": {},
   "outputs": [
    {
     "name": "stdout",
     "output_type": "stream",
     "text": [
      "Downloading Map from https://escher.github.io/1-0-0/6/maps/Escherichia%20coli/iJO1366.Central%20metabolism.json\n"
     ]
    }
   ],
   "source": [
    "# 3. Load Escher builder with map and model\n",
    "builder = Builder(\n",
    "    model=model,\n",
    "    map_name=\"iJO1366.Central metabolism\"\n",
    ")\n",
    "builder.scroll_behavior = 'zoom'"
   ]
  },
  {
   "cell_type": "code",
   "execution_count": 18,
   "metadata": {},
   "outputs": [
    {
     "data": {
      "application/vnd.jupyter.widget-view+json": {
       "model_id": "be99f6ffa1214bef80abed781eae65e5",
       "version_major": 2,
       "version_minor": 0
      },
      "text/plain": [
       "Builder(reaction_data={'EX_cm_e': 0.0, 'EX_cmp_e': 0.0, 'EX_co2_e': 19.179860253207494, 'EX_cobalt2_e': -2.256…"
      ]
     },
     "metadata": {},
     "output_type": "display_data"
    }
   ],
   "source": [
    "\n",
    "# 2. Run FBA\n",
    "solution = model.optimize()\n",
    "\n",
    "# 4. Add the FBA solution as reaction data\n",
    "builder.reaction_data = solution.fluxes.to_dict()\n",
    "\n",
    "# 5. Display the interactive map\n",
    "builder"
   ]
  },
  {
   "cell_type": "code",
   "execution_count": 16,
   "metadata": {},
   "outputs": [
    {
     "name": "stdout",
     "output_type": "stream",
     "text": [
      "EX_cm_e          0.000000\n",
      "EX_cmp_e         0.000000\n",
      "EX_co2_e        19.179860\n",
      "EX_cobalt2_e    -0.000023\n",
      "DM_4crsol_c      0.000201\n",
      "                  ...    \n",
      "RNDR4            0.000000\n",
      "RNDR4b           0.000000\n",
      "RNTR1c2          0.023620\n",
      "RNTR2c2          0.024388\n",
      "RNTR3c2          0.000000\n",
      "Name: fluxes, Length: 2583, dtype: float64\n"
     ]
    },
    {
     "data": {
      "application/vnd.jupyter.widget-view+json": {
       "model_id": "8f581d2a2f894c578386d055d44390b0",
       "version_major": 2,
       "version_minor": 0
      },
      "text/plain": [
       "Builder(allow_building_duplicate_reactions=False, and_method_in_gene_reaction_rule='mean', cofactors=['atp', '…"
      ]
     },
     "metadata": {},
     "output_type": "display_data"
    }
   ],
   "source": [
    "model.reactions.FUM.bounds = (0,0)\n",
    "# 2. Run FBA\n",
    "solution = model.optimize()\n",
    "\n",
    "# 4. Add the FBA solution as reaction data\n",
    "builder.reaction_data = solution.fluxes.to_dict()\n",
    "\n",
    "# 5. Display the interactive map\n",
    "builder"
   ]
  },
  {
   "cell_type": "code",
   "execution_count": 15,
   "metadata": {},
   "outputs": [
    {
     "data": {
      "text/html": [
       "\n",
       "        <table>\n",
       "            <tr>\n",
       "                <td><strong>Reaction identifier</strong></td><td>FUM</td>\n",
       "            </tr><tr>\n",
       "                <td><strong>Name</strong></td><td>Fumarase</td>\n",
       "            </tr><tr>\n",
       "                <td><strong>Memory address</strong></td>\n",
       "                <td>0x7f38cbcfaef0</td>\n",
       "            </tr><tr>\n",
       "                <td><strong>Stoichiometry</strong></td>\n",
       "                <td>\n",
       "                    <p style='text-align:right'>fum_c + h2o_c <=> mal__L_c</p>\n",
       "                    <p style='text-align:right'>Fumarate + H2O H2O <=> L-Malate</p>\n",
       "                </td>\n",
       "            </tr><tr>\n",
       "                <td><strong>GPR</strong></td><td>b1612 or b4122 or b1611</td>\n",
       "            </tr><tr>\n",
       "                <td><strong>Lower bound</strong></td><td>-1000.0</td>\n",
       "            </tr><tr>\n",
       "                <td><strong>Upper bound</strong></td><td>1000.0</td>\n",
       "            </tr>\n",
       "        </table>\n",
       "        "
      ],
      "text/plain": [
       "<Reaction FUM at 0x7f38cbcfaef0>"
      ]
     },
     "execution_count": 15,
     "metadata": {},
     "output_type": "execute_result"
    }
   ],
   "source": [
    "model.reactions.FUM"
   ]
  },
  {
   "cell_type": "code",
   "execution_count": 27,
   "metadata": {},
   "outputs": [
    {
     "name": "stdout",
     "output_type": "stream",
     "text": [
      "Downloading Map from https://escher.github.io/1-0-0/6/maps/Escherichia%20coli/iJO1366.Central%20metabolism.json\n"
     ]
    },
    {
     "data": {
      "application/vnd.jupyter.widget-view+json": {
       "model_id": "4666aadf7a654b159c93a53a4ce95a8d",
       "version_major": 2,
       "version_minor": 0
      },
      "text/plain": [
       "Builder(scroll_behavior='zoom')"
      ]
     },
     "metadata": {},
     "output_type": "display_data"
    }
   ],
   "source": [
    "# 3. Load Escher builder with map and model\n",
    "builder = Builder(\n",
    "    model=model,\n",
    "    map_name=\"iJO1366.Central metabolism\"\n",
    ")\n",
    "builder.scroll_behavior = 'zoom'\n",
    "builder"
   ]
  },
  {
   "cell_type": "code",
   "execution_count": 38,
   "metadata": {},
   "outputs": [],
   "source": [
    "import time\n",
    "import numpy as np\n",
    "\n",
    "\n",
    "timestep = 0.2\n",
    "\n",
    "for val in np.arange(0,10, 0.1).tolist():\n",
    "    model.reactions.EX_o2_e.lower_bound = -val\n",
    "    solution = model.optimize()\n",
    "    builder.reaction_data = solution.fluxes\n",
    "    if val <= lim[0]:\n",
    "        reverse = True\n",
    "    if val >= lim[1]:\n",
    "        reverse = False\n",
    "    if reverse:\n",
    "        val += step\n",
    "    else:\n",
    "        val -= step\n"
   ]
  },
  {
   "cell_type": "code",
   "execution_count": null,
   "metadata": {},
   "outputs": [],
   "source": []
  }
 ],
 "metadata": {
  "kernelspec": {
   "display_name": "Python 3",
   "language": "python",
   "name": "python3"
  },
  "language_info": {
   "codemirror_mode": {
    "name": "ipython",
    "version": 3
   },
   "file_extension": ".py",
   "mimetype": "text/x-python",
   "name": "python",
   "nbconvert_exporter": "python",
   "pygments_lexer": "ipython3",
   "version": "3.7.3"
  }
 },
 "nbformat": 4,
 "nbformat_minor": 4
}
